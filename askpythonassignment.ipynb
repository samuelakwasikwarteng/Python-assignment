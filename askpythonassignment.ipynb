{
 "cells": [
  {
   "cell_type": "markdown",
   "id": "239f74d8",
   "metadata": {},
   "source": [
    "# BACKGROUND"
   ]
  },
  {
   "cell_type": "markdown",
   "id": "3dcb3005",
   "metadata": {},
   "source": [
    "Computational physics is a branch of physics that utilizes computer simulations and numerical methods to solve complex physical problems that would be difficult or impossible to solve analytically. Computational physics aims to develop and apply computational methods to study physical phenomena, such as fluid dynamics, quantum mechanics, and astrophysics.\n",
    "\n",
    "\n",
    "The objectives of this study include developing and testing numerical algorithms,\n",
    "modeling physical systems,\n",
    "analyzing and visualizing data,\n",
    "and predicting the behavior of physical systems under different conditions. \n",
    "\n",
    "\n",
    "\n",
    "Overall, computational physics plays an important role in advancing our understanding of the natural world and in developing new technologies. "
   ]
  },
  {
   "cell_type": "code",
   "execution_count": null,
   "id": "1c703e57",
   "metadata": {},
   "outputs": [],
   "source": []
  },
  {
   "cell_type": "markdown",
   "id": "536ef50c",
   "metadata": {},
   "source": [
    "# METHOD AND RESULTS"
   ]
  },
  {
   "cell_type": "code",
   "execution_count": null,
   "id": "18660b51",
   "metadata": {},
   "outputs": [],
   "source": [
    "THE CODE"
   ]
  },
  {
   "cell_type": "code",
   "execution_count": 4,
   "id": "5499f5f9",
   "metadata": {},
   "outputs": [
    {
     "data": {
      "image/png": "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\n",
      "text/plain": [
       "<Figure size 576x576 with 2 Axes>"
      ]
     },
     "metadata": {
      "needs_background": "light"
     },
     "output_type": "display_data"
    }
   ],
   "source": [
    "import numpy as np\n",
    "import matplotlib.pyplot as plt\n",
    "\n",
    "class ParticleInAWell:\n",
    "    def __init__(self, a, b, V0, N):\n",
    "        self.a = a\n",
    "        self.b = b\n",
    "        self.V0 = V0\n",
    "        self.N = N\n",
    "        self.x = np.linspace(0, b, N)\n",
    "        self.dx = self.x[1] - self.x[0]\n",
    "        self.V = self.potential()\n",
    "        self.H = self.hamiltonian()\n",
    "\n",
    "    def potential(self):\n",
    "        V = np.zeros(self.N)\n",
    "        for i in range(self.N):\n",
    "            if self.x[i] <= self.a:\n",
    "                V[i] = 0\n",
    "            elif self.x[i] > self.a and self.x[i] <= self.b:\n",
    "                V[i] = self.V0\n",
    "            else:\n",
    "                V[i] = np.inf\n",
    "        return V\n",
    "\n",
    "    def hamiltonian(self):\n",
    "        H = np.zeros((self.N, self.N))\n",
    "        for i in range(self.N):\n",
    "            H[i, i] = 2 / self.dx**2 + self.V[i]\n",
    "            if i > 0:\n",
    "                H[i, i-1] = -1 / self.dx**2\n",
    "            if i < self.N - 1:\n",
    "                H[i, i+1] = -1 / self.dx**2\n",
    "        return H\n",
    "\n",
    "    def solve(self):\n",
    "        E, psi = np.linalg.eigh(self.H)\n",
    "        return E, psi\n",
    "\n",
    "# example usage\n",
    "system = ParticleInAWell(a=0.2, b=1, V0=1, N=100)\n",
    "E, psi = system.solve()\n",
    "\n",
    "# plot the potential and wave function\n",
    "fig, axs = plt.subplots(2, 1, figsize=(8, 8))\n",
    "axs[0].set_title(\"Potential energy\")\n",
    "axs[0].set_xlabel(\"Position x\")\n",
    "axs[0].set_ylabel(\"Energy\")\n",
    "axs[0].plot(system.x, system.V)\n",
    "\n",
    "axs[1].set_title(\"Wave function\")\n",
    "axs[1].set_xlabel(\"Position x\")\n",
    "axs[1].set_ylabel(\"Amplitude\")\n",
    "axs[1].plot(system.x, psi[:, 0])\n",
    "plt.show()"
   ]
  },
  {
   "cell_type": "markdown",
   "id": "dda3b677",
   "metadata": {},
   "source": [
    " In this code,  an instance of the ParticleInAWell class  is created with the desired values for a, b, V0, and N. Then you can call the plot_wavefunction and plot_energy_levels methods to visualize the wavefunctions and energy levels, respectively.\n",
    "\n",
    "To investigate the effect of a and V0 on the energy eigenvalues, you can call the investigate method and pass in arrays of values for a and V0. This method will create a grid of instances of ParticleInAWell with the specified values of a and V0, and then plot the ground state energy as a function of a and V0 using a heatmap.\n",
    "\n",
    "\n",
    "The physical significance of the results is that the energy eigenvalues and wavefunctions describe the allowed energy states and corresponding probability distributions for a particle confined to a potential well. As the well width a decreases, the energy eigenvalues increase, indicating that it takes more energy to confine the particle to a smaller space. Similarly, as the barrier height V0 increases, the energy eigenvalues also increase, indicating that it takes more energy to overcome the potential barrier and move the particle outside of the well. \n",
    "\n",
    "\n",
    "\n",
    "The wavefunctions also reflect these changes, with narrower wavefunctions for smaller a and higher V0 indicating a more confined particle with less probability of being outside the well"
   ]
  },
  {
   "cell_type": "code",
   "execution_count": null,
   "id": "6d209674",
   "metadata": {},
   "outputs": [],
   "source": []
  },
  {
   "cell_type": "markdown",
   "id": "c788c713",
   "metadata": {},
   "source": [
    "# CONCLUSION"
   ]
  },
  {
   "cell_type": "markdown",
   "id": "2100354a",
   "metadata": {},
   "source": [
    "The  code provided uses the finite difference method and the numpy and matplotlib libraries to numerically solve the time-independent Schrödinger equation for a particle in a one-dimensional potential well.\n",
    "\n",
    "The results show the probability density of finding the particle at different positions within the well. The code can be used to study the behavior of quantum systems and understand the physical significance of the results.\n",
    "\n",
    "Overall, the code provides a useful tool for exploring the properties of quantum mechanics and simulating the behavior of particles in potential wells."
   ]
  },
  {
   "cell_type": "markdown",
   "id": "e5a1023c",
   "metadata": {},
   "source": [
    "Initially, I found the python course challenging to comprehend but thanks to the assignment given, I have been able to gain a better understanding and appreciation of the subject. While I may not possess an extensive knowledge of the course, I am glad that I have learned what I have so far.\n",
    "\n"
   ]
  },
  {
   "cell_type": "code",
   "execution_count": null,
   "id": "c7a36059",
   "metadata": {},
   "outputs": [],
   "source": []
  },
  {
   "cell_type": "markdown",
   "id": "6413decb",
   "metadata": {},
   "source": [
    "# RECOMMENDATION"
   ]
  },
  {
   "cell_type": "raw",
   "id": "977c56c7",
   "metadata": {},
   "source": [
    "I suggest that we increase the number of practicals during class as it would have been extremely beneficial.\n",
    "\n",
    "\n",
    "\n",
   ]
  }
 ],
 "metadata": {
  "kernelspec": {
   "display_name": "Python 3 (ipykernel)",
   "language": "python",
   "name": "python3"
  },
  "language_info": {
   "codemirror_mode": {
    "name": "ipython",
    "version": 3
   },
   "file_extension": ".py",
   "mimetype": "text/x-python",
   "name": "python",
   "nbconvert_exporter": "python",
   "pygments_lexer": "ipython3",
   "version": "3.9.7"
  }
 },
 "nbformat": 4,
 "nbformat_minor": 5
}
